{
  "nbformat": 4,
  "nbformat_minor": 0,
  "metadata": {
    "colab": {
      "name": "NNLM",
      "provenance": [],
      "authorship_tag": "ABX9TyPIBZkOqz+0D+2DiqQv7RcD",
      "include_colab_link": true
    },
    "kernelspec": {
      "name": "python3",
      "display_name": "Python 3"
    },
    "accelerator": "GPU"
  },
  "cells": [
    {
      "cell_type": "markdown",
      "metadata": {
        "id": "view-in-github",
        "colab_type": "text"
      },
      "source": [
        "<a href=\"https://colab.research.google.com/github/square-1111/Natural-Language-Generation/blob/master/NNLM.ipynb\" target=\"_parent\"><img src=\"https://colab.research.google.com/assets/colab-badge.svg\" alt=\"Open In Colab\"/></a>"
      ]
    },
    {
      "cell_type": "code",
      "metadata": {
        "id": "CgoMFWpyCFUu",
        "colab_type": "code",
        "colab": {}
      },
      "source": [
        "import numpy as np\n",
        "import torch\n",
        "import torch.nn as nn\n",
        "import torch.optim as optim\n",
        "from torch.autograd import Variable"
      ],
      "execution_count": 0,
      "outputs": []
    },
    {
      "cell_type": "code",
      "metadata": {
        "id": "UmOLwSzwCXwo",
        "colab_type": "code",
        "colab": {}
      },
      "source": [
        "sentences = ['I love music', 'I play football', 'I love mathematics', 'Food is delicious']"
      ],
      "execution_count": 0,
      "outputs": []
    },
    {
      "cell_type": "code",
      "metadata": {
        "id": "_kVpOR8ZCrBe",
        "colab_type": "code",
        "colab": {}
      },
      "source": [
        "words = list(set(\" \".join(sentences).split()))"
      ],
      "execution_count": 0,
      "outputs": []
    },
    {
      "cell_type": "code",
      "metadata": {
        "id": "_H51UNSaDYwq",
        "colab_type": "code",
        "colab": {
          "base_uri": "https://localhost:8080/",
          "height": 330
        },
        "outputId": "05c4ae8d-0e87-41f9-e6c1-be2ba6fe3361"
      },
      "source": [
        "words_dict = {w:i for i,w in enumerate(words)}\n",
        "num_dict = {i:w for i,w in enumerate(words)}\n",
        "words_dict, num_dict"
      ],
      "execution_count": 4,
      "outputs": [
        {
          "output_type": "execute_result",
          "data": {
            "text/plain": [
              "({'Food': 3,\n",
              "  'I': 2,\n",
              "  'delicious': 8,\n",
              "  'football': 6,\n",
              "  'is': 0,\n",
              "  'love': 4,\n",
              "  'mathematics': 7,\n",
              "  'music': 5,\n",
              "  'play': 1},\n",
              " {0: 'is',\n",
              "  1: 'play',\n",
              "  2: 'I',\n",
              "  3: 'Food',\n",
              "  4: 'love',\n",
              "  5: 'music',\n",
              "  6: 'football',\n",
              "  7: 'mathematics',\n",
              "  8: 'delicious'})"
            ]
          },
          "metadata": {
            "tags": []
          },
          "execution_count": 4
        }
      ]
    },
    {
      "cell_type": "code",
      "metadata": {
        "id": "We_6_1QNNJA0",
        "colab_type": "code",
        "colab": {}
      },
      "source": [
        "n_class = len(words_dict) # number of Vocabulary"
      ],
      "execution_count": 0,
      "outputs": []
    },
    {
      "cell_type": "code",
      "metadata": {
        "id": "Oo9BJYDUDpZE",
        "colab_type": "code",
        "colab": {}
      },
      "source": [
        "# NNLM Parameter\n",
        "n_step = 2 # n-1 in paper\n",
        "n_hidden = 2 # h in paper\n",
        "m = 2 # m in paper"
      ],
      "execution_count": 0,
      "outputs": []
    },
    {
      "cell_type": "code",
      "metadata": {
        "id": "2A0hZFK1EcQB",
        "colab_type": "code",
        "colab": {
          "base_uri": "https://localhost:8080/",
          "height": 34
        },
        "outputId": "f41a398f-e652-4574-9d79-1cc8bd9b17b8"
      },
      "source": [
        "words[:-1]"
      ],
      "execution_count": 7,
      "outputs": [
        {
          "output_type": "execute_result",
          "data": {
            "text/plain": [
              "['is', 'play', 'I', 'Food', 'love', 'music', 'football', 'mathematics']"
            ]
          },
          "metadata": {
            "tags": []
          },
          "execution_count": 7
        }
      ]
    },
    {
      "cell_type": "code",
      "metadata": {
        "id": "Jcraepz8ELEA",
        "colab_type": "code",
        "colab": {}
      },
      "source": [
        "def make_batch(sentences):\n",
        "  input_batch = []\n",
        "  target_batch = []\n",
        "\n",
        "  for sen in sentences:\n",
        "    word = sen.split()\n",
        "    input = [words_dict[term] for term in word[:-1]]\n",
        "    output = [words_dict[word[-1]]]\n",
        "\n",
        "    input_batch.append(input)\n",
        "    target_batch.append(output)\n",
        "\n",
        "  return input_batch, target_batch\n"
      ],
      "execution_count": 0,
      "outputs": []
    },
    {
      "cell_type": "code",
      "metadata": {
        "id": "aHaFPiz7EwFp",
        "colab_type": "code",
        "colab": {
          "base_uri": "https://localhost:8080/",
          "height": 34
        },
        "outputId": "46f8d9c8-006b-4f59-c105-c2eedd4b7000"
      },
      "source": [
        "make_batch(sentences)"
      ],
      "execution_count": 9,
      "outputs": [
        {
          "output_type": "execute_result",
          "data": {
            "text/plain": [
              "([[2, 4], [2, 1], [2, 4], [3, 0]], [[5], [6], [7], [8]])"
            ]
          },
          "metadata": {
            "tags": []
          },
          "execution_count": 9
        }
      ]
    },
    {
      "cell_type": "code",
      "metadata": {
        "id": "_HraUH0pFKSj",
        "colab_type": "code",
        "colab": {}
      },
      "source": [
        "class NNLM(nn.Module):\n",
        "  def __init__(self):\n",
        "    super(NNLM, self).__init__()\n",
        "    self.C = nn.Embedding(n_class, m)\n",
        "    self.H = nn.Parameter(torch.randn(n_step*m, n_hidden).type(torch.FloatTensor))\n",
        "    self.W = nn.Parameter(torch.randn(n_step*m, n_class).type(torch.FloatTensor))\n",
        "    self.d = nn.Parameter(torch.randn(n_hidden).type(torch.FloatTensor))\n",
        "    self.U = nn.Parameter(torch.randn(n_hidden, n_class).type(torch.FloatTensor))\n",
        "    self.b = nn.Parameter(torch.randn(n_class).type(torch.FloatTensor))\n",
        "  \n",
        "  def forward(self, X):\n",
        "    X = self.C(X)\n",
        "    X = X.view(-1, n_step*m)\n",
        "    tanh = torch.tanh(self.d + torch.mm(X, self.H))\n",
        "    output = self.b + torch.mm(X,self.W) + torch.mm(tanh, self.U)\n",
        "    return output"
      ],
      "execution_count": 0,
      "outputs": []
    },
    {
      "cell_type": "code",
      "metadata": {
        "id": "L5Hzd4_KLxyj",
        "colab_type": "code",
        "colab": {}
      },
      "source": [
        "model = NNLM()"
      ],
      "execution_count": 0,
      "outputs": []
    },
    {
      "cell_type": "code",
      "metadata": {
        "id": "5gGjloMePHqY",
        "colab_type": "code",
        "colab": {}
      },
      "source": [
        "criterion = nn.CrossEntropyLoss()\n",
        "optimizer = optim.Adam(model.parameters(), lr=0.001)"
      ],
      "execution_count": 0,
      "outputs": []
    },
    {
      "cell_type": "code",
      "metadata": {
        "id": "n_m-ioOIQ_Yw",
        "colab_type": "code",
        "colab": {
          "base_uri": "https://localhost:8080/",
          "height": 625
        },
        "outputId": "046b23c2-dd84-4f5e-c986-1c33a99a78fe"
      },
      "source": [
        "list(model.named_parameters())"
      ],
      "execution_count": 13,
      "outputs": [
        {
          "output_type": "execute_result",
          "data": {
            "text/plain": [
              "[('H', Parameter containing:\n",
              "  tensor([[-0.3808,  0.2286],\n",
              "          [-0.3603, -0.5479],\n",
              "          [-0.0034, -0.8887],\n",
              "          [ 0.1994, -0.8191]], requires_grad=True)),\n",
              " ('W', Parameter containing:\n",
              "  tensor([[ 1.3340,  1.1089,  1.1024, -0.1865,  0.2948,  1.0652, -0.1043, -0.6568,\n",
              "           -1.4329],\n",
              "          [-1.0706,  0.1257,  0.5168, -0.4716, -1.1019,  0.0293, -0.0165, -1.5264,\n",
              "            0.1736],\n",
              "          [ 1.5681, -1.4069,  0.1139,  0.2738, -0.7006,  0.5726,  0.1446,  0.5148,\n",
              "           -0.6364],\n",
              "          [-0.1973,  0.5885, -1.1763,  1.4654,  1.8609,  1.4203, -1.1583, -1.0705,\n",
              "           -1.8272]], requires_grad=True)),\n",
              " ('d', Parameter containing:\n",
              "  tensor([0.9058, 1.0286], requires_grad=True)),\n",
              " ('U', Parameter containing:\n",
              "  tensor([[-3.7860e-01, -5.8057e-01, -2.2433e-01,  1.2631e-01, -1.4523e+00,\n",
              "            1.0511e-05,  1.1851e+00,  1.3208e-01, -5.9338e-01],\n",
              "          [ 6.2613e-01,  1.7651e-01, -2.7484e-01, -1.3838e+00,  1.8908e+00,\n",
              "           -9.8183e-01,  2.2769e-01, -3.9363e-01,  3.4838e-01]],\n",
              "         requires_grad=True)),\n",
              " ('b', Parameter containing:\n",
              "  tensor([-0.5999,  0.6779,  0.4878,  1.5579, -0.7799, -0.7690,  1.2808,  0.6459,\n",
              "          -2.2327], requires_grad=True)),\n",
              " ('C.weight', Parameter containing:\n",
              "  tensor([[ 1.9256, -0.7338],\n",
              "          [-0.0916, -0.5073],\n",
              "          [ 0.8944, -0.1307],\n",
              "          [-0.2906, -0.3986],\n",
              "          [ 1.4533, -0.2379],\n",
              "          [-0.4917,  0.0512],\n",
              "          [-0.2294, -0.9564],\n",
              "          [ 1.7834,  1.2196],\n",
              "          [-0.3897, -1.3880]], requires_grad=True))]"
            ]
          },
          "metadata": {
            "tags": []
          },
          "execution_count": 13
        }
      ]
    },
    {
      "cell_type": "code",
      "metadata": {
        "id": "Q80JtlRGRHkn",
        "colab_type": "code",
        "colab": {}
      },
      "source": [
        "input_batch, target_batch = make_batch(sentences)\n",
        "input_batch = Variable(torch.LongTensor(input_batch))\n",
        "target_batch = Variable(torch.LongTensor(target_batch))"
      ],
      "execution_count": 0,
      "outputs": []
    },
    {
      "cell_type": "code",
      "metadata": {
        "id": "AlkJBqKnXeMa",
        "colab_type": "code",
        "colab": {}
      },
      "source": [
        "import plotly.express as px\n",
        "from IPython.display import clear_output\n",
        "import pandas as pd"
      ],
      "execution_count": 0,
      "outputs": []
    },
    {
      "cell_type": "code",
      "metadata": {
        "id": "aeDdaPBOXfgc",
        "colab_type": "code",
        "colab": {}
      },
      "source": [
        "def plot(df):\n",
        "  clear_output()  \n",
        "  fig = px.line(df, x=\"epoch\", y=\"loss\", title='Loss visualization')\n",
        "  fig.show()"
      ],
      "execution_count": 0,
      "outputs": []
    },
    {
      "cell_type": "code",
      "metadata": {
        "id": "swDT81WyQXXt",
        "colab_type": "code",
        "colab": {}
      },
      "source": [
        "# Training\n",
        "loss_df = pd.DataFrame({'epoch':[],'loss':[]})"
      ],
      "execution_count": 0,
      "outputs": []
    },
    {
      "cell_type": "code",
      "metadata": {
        "id": "JKfOng2gR3_X",
        "colab_type": "code",
        "colab": {
          "base_uri": "https://localhost:8080/",
          "height": 104
        },
        "outputId": "750ae656-dfcf-4111-de86-cffe6ab88f78"
      },
      "source": [
        "for epoch in range(5000):\n",
        "  optimizer.zero_grad()\n",
        "  output = model(input_batch)\n",
        "\n",
        "  loss = criterion(output,target_batch.squeeze(1))\n",
        "  pd.DataFrame(np.array([[epoch, loss]]), columns=['epoch','loss']).append(loss_df, ignore_index=True)\n",
        "  if (epoch+1)%1000 == 0:\n",
        "    # plot(loss_df)\n",
        "    print('Epoch:', '%03d' % (epoch + 1), 'cost =', '{:.6f}'.format(loss))\n",
        "\n",
        "  loss.backward()\n",
        "  optimizer.step()"
      ],
      "execution_count": 18,
      "outputs": [
        {
          "output_type": "stream",
          "text": [
            "Epoch: 1000 cost = 0.388519\n",
            "Epoch: 2000 cost = 0.355393\n",
            "Epoch: 3000 cost = 0.349795\n",
            "Epoch: 4000 cost = 0.348031\n",
            "Epoch: 5000 cost = 0.347307\n"
          ],
          "name": "stdout"
        }
      ]
    },
    {
      "cell_type": "code",
      "metadata": {
        "id": "qSsLGZK9SnWR",
        "colab_type": "code",
        "colab": {}
      },
      "source": [
        "# Predict\n",
        "predict = model(input_batch).data.max(1, keepdim=True)[1]\n"
      ],
      "execution_count": 0,
      "outputs": []
    },
    {
      "cell_type": "code",
      "metadata": {
        "id": "43taqXp4iQ5S",
        "colab_type": "code",
        "colab": {
          "base_uri": "https://localhost:8080/",
          "height": 86
        },
        "outputId": "7d3d6b24-79c1-4b24-9fe1-c075952b9e91"
      },
      "source": [
        "predict"
      ],
      "execution_count": 20,
      "outputs": [
        {
          "output_type": "execute_result",
          "data": {
            "text/plain": [
              "tensor([[5],\n",
              "        [6],\n",
              "        [5],\n",
              "        [8]])"
            ]
          },
          "metadata": {
            "tags": []
          },
          "execution_count": 20
        }
      ]
    },
    {
      "cell_type": "code",
      "metadata": {
        "id": "CUISLIf6iSK6",
        "colab_type": "code",
        "colab": {
          "base_uri": "https://localhost:8080/",
          "height": 34
        },
        "outputId": "60dcd5e4-ae4b-483a-dd65-799c6e54e601"
      },
      "source": [
        "print([sen.split()[:2] for sen in sentences], '->', [num_dict[n.item()] for n in predict.squeeze()])"
      ],
      "execution_count": 22,
      "outputs": [
        {
          "output_type": "stream",
          "text": [
            "[['I', 'love'], ['I', 'play'], ['I', 'love'], ['Food', 'is']] -> ['music', 'football', 'music', 'delicious']\n"
          ],
          "name": "stdout"
        }
      ]
    },
    {
      "cell_type": "code",
      "metadata": {
        "id": "9LaEsppriZMj",
        "colab_type": "code",
        "colab": {}
      },
      "source": [
        ""
      ],
      "execution_count": 0,
      "outputs": []
    }
  ]
}